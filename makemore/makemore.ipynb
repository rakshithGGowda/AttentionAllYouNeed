{
 "cells": [
  {
   "cell_type": "code",
   "execution_count": 46,
   "metadata": {},
   "outputs": [
    {
     "data": {
      "text/plain": [
       "['abrar',\n",
       " 'desh  deepak pandey',\n",
       " 'aatam parkash',\n",
       " 'harpal singh',\n",
       " 'heena praveen',\n",
       " 'durgash urf mahi',\n",
       " 'lalita kunwar',\n",
       " 'sohan singh urf rupsingh',\n",
       " 'pawan meghwal',\n",
       " 'mamu ram']"
      ]
     },
     "execution_count": 46,
     "metadata": {},
     "output_type": "execute_result"
    }
   ],
   "source": [
    "names = open(\"./data/data.txt\" , \"r\").read().splitlines()\n",
    "\n",
    "names[:10]"
   ]
  },
  {
   "cell_type": "code",
   "execution_count": 47,
   "metadata": {},
   "outputs": [
    {
     "name": "stdout",
     "output_type": "stream",
     "text": [
      "13512\n",
      "13512\n"
     ]
    }
   ],
   "source": [
    "print(len(names))\n",
    "\n",
    "\n",
    "names = list(set(names))\n",
    "\n",
    "print(len(names))"
   ]
  },
  {
   "cell_type": "code",
   "execution_count": 48,
   "metadata": {},
   "outputs": [
    {
     "name": "stdout",
     "output_type": "stream",
     "text": [
      "na\n",
      "om\n"
     ]
    }
   ],
   "source": [
    "min(len(name) for name in names)\n",
    "\n",
    "\n",
    "for name in names:\n",
    "    if len(name) == 2:\n",
    "        print(name)\n",
    "        "
   ]
  },
  {
   "cell_type": "code",
   "execution_count": 50,
   "metadata": {},
   "outputs": [
    {
     "name": "stdout",
     "output_type": "stream",
     "text": [
      "50\n",
      "asha devi along with her doughter namly pooja age-\n",
      "muskan d/o shiv kumar r/o c-78, shivaji park, punj\n",
      "shanti devi alongh with her daughter khushi  3 yrs\n",
      "kamini alongwith her daughter namely megha age-9yr\n",
      "mahender s/o dhanna ram r/o b-341, j j colony, mad\n",
      "bharti jain with her two son palak jain age 11 yrs\n"
     ]
    }
   ],
   "source": [
    "        \n",
    "print(max(len(name) for name in names))\n",
    "\n",
    "for name in names: \n",
    "    if len(name) == 50: \n",
    "        print(name)"
   ]
  },
  {
   "cell_type": "code",
   "execution_count": null,
   "metadata": {},
   "outputs": [],
   "source": []
  }
 ],
 "metadata": {
  "kernelspec": {
   "display_name": "imaginaire",
   "language": "python",
   "name": "python3"
  },
  "language_info": {
   "codemirror_mode": {
    "name": "ipython",
    "version": 3
   },
   "file_extension": ".py",
   "mimetype": "text/x-python",
   "name": "python",
   "nbconvert_exporter": "python",
   "pygments_lexer": "ipython3",
   "version": "3.8.20"
  }
 },
 "nbformat": 4,
 "nbformat_minor": 2
}
