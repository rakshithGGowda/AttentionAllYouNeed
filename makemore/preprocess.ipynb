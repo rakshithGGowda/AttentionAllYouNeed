{
 "cells": [
  {
   "cell_type": "code",
   "execution_count": 43,
   "metadata": {},
   "outputs": [],
   "source": [
    "import pandas as pd\n"
   ]
  },
  {
   "cell_type": "code",
   "execution_count": 44,
   "metadata": {},
   "outputs": [
    {
     "data": {
      "text/html": [
       "<div>\n",
       "<style scoped>\n",
       "    .dataframe tbody tr th:only-of-type {\n",
       "        vertical-align: middle;\n",
       "    }\n",
       "\n",
       "    .dataframe tbody tr th {\n",
       "        vertical-align: top;\n",
       "    }\n",
       "\n",
       "    .dataframe thead th {\n",
       "        text-align: right;\n",
       "    }\n",
       "</style>\n",
       "<table border=\"1\" class=\"dataframe\">\n",
       "  <thead>\n",
       "    <tr style=\"text-align: right;\">\n",
       "      <th></th>\n",
       "      <th>name</th>\n",
       "      <th>gender</th>\n",
       "      <th>race</th>\n",
       "    </tr>\n",
       "  </thead>\n",
       "  <tbody>\n",
       "    <tr>\n",
       "      <th>0</th>\n",
       "      <td>shivani</td>\n",
       "      <td>f</td>\n",
       "      <td>indian</td>\n",
       "    </tr>\n",
       "    <tr>\n",
       "      <th>1</th>\n",
       "      <td>isha</td>\n",
       "      <td>f</td>\n",
       "      <td>indian</td>\n",
       "    </tr>\n",
       "    <tr>\n",
       "      <th>2</th>\n",
       "      <td>smt shyani devi</td>\n",
       "      <td>f</td>\n",
       "      <td>indian</td>\n",
       "    </tr>\n",
       "    <tr>\n",
       "      <th>3</th>\n",
       "      <td>divya</td>\n",
       "      <td>f</td>\n",
       "      <td>indian</td>\n",
       "    </tr>\n",
       "    <tr>\n",
       "      <th>4</th>\n",
       "      <td>mansi</td>\n",
       "      <td>f</td>\n",
       "      <td>indian</td>\n",
       "    </tr>\n",
       "    <tr>\n",
       "      <th>...</th>\n",
       "      <td>...</td>\n",
       "      <td>...</td>\n",
       "      <td>...</td>\n",
       "    </tr>\n",
       "    <tr>\n",
       "      <th>15377</th>\n",
       "      <td>saroj devi</td>\n",
       "      <td>f</td>\n",
       "      <td>indian</td>\n",
       "    </tr>\n",
       "    <tr>\n",
       "      <th>15378</th>\n",
       "      <td>naina @ geeta</td>\n",
       "      <td>f</td>\n",
       "      <td>indian</td>\n",
       "    </tr>\n",
       "    <tr>\n",
       "      <th>15379</th>\n",
       "      <td>manju d/0 baboo lal jatav</td>\n",
       "      <td>f</td>\n",
       "      <td>indian</td>\n",
       "    </tr>\n",
       "    <tr>\n",
       "      <th>15380</th>\n",
       "      <td>shivani</td>\n",
       "      <td>f</td>\n",
       "      <td>indian</td>\n",
       "    </tr>\n",
       "    <tr>\n",
       "      <th>15381</th>\n",
       "      <td>nayna</td>\n",
       "      <td>f</td>\n",
       "      <td>indian</td>\n",
       "    </tr>\n",
       "  </tbody>\n",
       "</table>\n",
       "<p>15382 rows × 3 columns</p>\n",
       "</div>"
      ],
      "text/plain": [
       "                            name gender    race\n",
       "0                        shivani      f  indian\n",
       "1                           isha      f  indian\n",
       "2                smt shyani devi      f  indian\n",
       "3                          divya      f  indian\n",
       "4                          mansi      f  indian\n",
       "...                          ...    ...     ...\n",
       "15377                 saroj devi      f  indian\n",
       "15378              naina @ geeta      f  indian\n",
       "15379  manju d/0 baboo lal jatav      f  indian\n",
       "15380                    shivani      f  indian\n",
       "15381                      nayna      f  indian\n",
       "\n",
       "[15382 rows x 3 columns]"
      ]
     },
     "execution_count": 44,
     "metadata": {},
     "output_type": "execute_result"
    }
   ],
   "source": [
    "data_male = pd.read_csv(\"./data/Indian-Male-Names.csv\")\n",
    "data_female = pd.read_csv(\"./data/Indian-Female-Names.csv\")\n",
    "\n",
    "data_female"
   ]
  },
  {
   "cell_type": "code",
   "execution_count": 45,
   "metadata": {},
   "outputs": [
    {
     "name": "stdout",
     "output_type": "stream",
     "text": [
      "13512\n"
     ]
    }
   ],
   "source": [
    "#take name coloum value from the data_male and add it the txt file called data.txt\n",
    "\n",
    "import random\n",
    "import regex as re\n",
    "\n",
    "names = list(data_male['name'])\n",
    "\n",
    "names.extend(list(data_female['name']))\n",
    "random.shuffle(names)\n",
    "\n",
    "regex = re.compile('[@_!#$%^&*()<>?/\\|}{~:]')\n",
    "names = list(set(names))\n",
    "\n",
    "    \n",
    "for name in names:\n",
    "    #remove name which is not a str\n",
    "    if (type(name) != str):\n",
    "        names.remove(name)\n",
    "        \n",
    "        \n",
    "for name in names:\n",
    "    if regex.search(name) != None: names.remove(name)\n",
    "\n",
    "print(len(names))\n",
    "\n",
    "with open('./data/data.txt', 'w') as f:\n",
    "    for name in names:\n",
    "        f.write(name + '\\n')"
   ]
  },
  {
   "cell_type": "code",
   "execution_count": 39,
   "metadata": {},
   "outputs": [
    {
     "data": {
      "text/plain": [
       "True"
      ]
     },
     "execution_count": 39,
     "metadata": {},
     "output_type": "execute_result"
    }
   ],
   "source": [
    "a =\"asha devi along with her doughter namly pooja age-shanti devi alongh with her daughter khushi  3 yrssandeep dahiya ms/o azad singh r/o village bound pkamini alongwith her daughter namely megha age-9yrmahender s/o dhanna ram r/o b-341, j j colony, madbharti jain with her two son palak jain age 11 yrs\"\n",
    "\n",
    "spc = \"[@_!#$%^&*()<>?/\\|}{~:]\"\n",
    "\n",
    "any( item in a for item in spc) "
   ]
  },
  {
   "cell_type": "code",
   "execution_count": null,
   "metadata": {},
   "outputs": [],
   "source": []
  },
  {
   "cell_type": "code",
   "execution_count": null,
   "metadata": {},
   "outputs": [],
   "source": []
  }
 ],
 "metadata": {
  "kernelspec": {
   "display_name": "imaginaire",
   "language": "python",
   "name": "python3"
  },
  "language_info": {
   "codemirror_mode": {
    "name": "ipython",
    "version": 3
   },
   "file_extension": ".py",
   "mimetype": "text/x-python",
   "name": "python",
   "nbconvert_exporter": "python",
   "pygments_lexer": "ipython3",
   "version": "3.8.20"
  }
 },
 "nbformat": 4,
 "nbformat_minor": 2
}
